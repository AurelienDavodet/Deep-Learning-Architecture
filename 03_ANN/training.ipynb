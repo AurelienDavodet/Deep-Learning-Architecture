{
 "cells": [
  {
   "cell_type": "markdown",
   "metadata": {},
   "source": [
    "# Training Single Layer ANN"
   ]
  },
  {
   "cell_type": "code",
   "execution_count": null,
   "metadata": {},
   "outputs": [],
   "source": [
    "import numpy as np\n",
    "from single_layer_ann import SingleLayerANN"
   ]
  },
  {
   "cell_type": "code",
   "execution_count": null,
   "metadata": {},
   "outputs": [],
   "source": [
    "training_data = np.array([[0, 0], [0, 1], [1, 0], [1, 1]])\n",
    "labels = np.array(\n",
    "    [\n",
    "        [1, 0],  # Class 1\n",
    "        [0, 1],  # Class 2\n",
    "        [0, 1],  # Class 2\n",
    "        [1, 0],  # Class 1\n",
    "    ]\n",
    ")"
   ]
  },
  {
   "cell_type": "code",
   "execution_count": null,
   "metadata": {},
   "outputs": [],
   "source": [
    "single_layer_ann = SingleLayerANN(num_inputs=2, num_outputs=2, learning_rate=0.1)\n",
    "single_layer_ann.train(training_data, labels, epochs=1000)"
   ]
  },
  {
   "cell_type": "code",
   "execution_count": null,
   "metadata": {},
   "outputs": [],
   "source": [
    "print(\"Testing predictions:\")\n",
    "for data in training_data:\n",
    "    print(\n",
    "        f\"Input: {data}, Predicted Output: {single_layer_ann.evaluate(np.array([data]))}\"\n",
    "    )"
   ]
  },
  {
   "cell_type": "markdown",
   "metadata": {},
   "source": [
    "# Training Multi Layers ANN"
   ]
  },
  {
   "cell_type": "code",
   "execution_count": null,
   "metadata": {},
   "outputs": [],
   "source": [
    "from multi_layers_ann import MultiLayerANN"
   ]
  },
  {
   "cell_type": "code",
   "execution_count": null,
   "metadata": {},
   "outputs": [],
   "source": [
    "training_data = np.array([[0, 0], [0, 1], [1, 0], [1, 1]])\n",
    "labels = np.array([[0], [1], [1], [0]])"
   ]
  },
  {
   "cell_type": "code",
   "execution_count": null,
   "metadata": {},
   "outputs": [],
   "source": [
    "multi_layer_ann = MultiLayerANN(\n",
    "    num_inputs=2, num_hidden=2, num_outputs=1, learning_rate=0.1\n",
    ")\n",
    "multi_layer_ann.train(training_data, labels, epochs=5000)"
   ]
  },
  {
   "cell_type": "code",
   "execution_count": null,
   "metadata": {},
   "outputs": [],
   "source": [
    "print(\"Testing predictions:\")\n",
    "for data in training_data:\n",
    "    print(\n",
    "        f\"Input: {data}, Predicted Output: {multi_layer_ann.predict(np.array([data]))}\"\n",
    "    )"
   ]
  }
 ],
 "metadata": {
  "kernelspec": {
   "display_name": "Python 3",
   "language": "python",
   "name": "python3"
  },
  "language_info": {
   "name": "python",
   "version": "3.12.6"
  }
 },
 "nbformat": 4,
 "nbformat_minor": 2
}
